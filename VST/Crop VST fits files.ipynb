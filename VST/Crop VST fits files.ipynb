{
 "metadata": {
  "name": "",
  "signature": "sha256:c1696566984829e0573d6276409cc88e434702f25de78b41ae38a5088bf505d4"
 },
 "nbformat": 3,
 "nbformat_minor": 0,
 "worksheets": [
  {
   "cells": [
    {
     "cell_type": "markdown",
     "metadata": {},
     "source": [
      "#Crop VST fits files"
     ]
    },
    {
     "cell_type": "code",
     "collapsed": false,
     "input": [
      "import pyfits as fits\n",
      "import numpy as np\n",
      "import os\n",
      "import matplotlib.pyplot as plt\n",
      "\n",
      "# renders interactive figures in the Notebook\n",
      "%matplotlib nbagg\n",
      "\n",
      "def go_to(dir):\n",
      "    \"\"\"Function to select and switch to optical or HI folders\"\"\"\n",
      "    # options\n",
      "    opt = [\"opt\",\"Opt\",\"OPT\"]\n",
      "    peris = [\"per\", \"peris\", \"Peris\"]\n",
      "    hi = [\"HI\", \"Hi\", \"hi\"]\n",
      "    rgb = [\"rgb\", \"RGB\"]\n",
      "    \n",
      "    if dir in opt:\n",
      "        # raw data and work directories:\n",
      "        raw = \"/home/prm/Desktop/optical/optical/CAHA/cig96_jun16/cig\"\n",
      "        work = \"/home/prm/Desktop/optical/optical/CAHA/cig96_jun16/cig\"\n",
      "    \n",
      "    elif dir in peris:\n",
      "        # raw data and work directories:\n",
      "        raw = \"/home/prm/Desktop/optical/optical/CAHA/cig96_jun16/deep_peris/\"\n",
      "        work = \"/home/prm/Desktop/optical/optical/CAHA/cig96_jun16/deep_peris/\"\n",
      "        \n",
      "    elif dir in hi:\n",
      "        # raw data and work directories:\n",
      "        raw = \"/home/prm/Desktop/cig96-evla-vla-2015\"\n",
      "        work = \"/home/prm/Desktop/cig96-evla-vla-2015\"\n",
      "        \n",
      "    elif dir in rgb:\n",
      "        # raw data and work directories:\n",
      "        raw = \"/home/prm/Desktop/optical/optical/CAHA/cig96_jun16/v_peris/\"\n",
      "        work = \"/home/prm/Desktop/optical/optical/CAHA/cig96_jun16/v_peris/\"\n",
      "        \n",
      "    else:\n",
      "        return \"Invalid option, please select 'opt', 'peris' or 'HI'.\"\n",
      "\n",
      "    # switch to selected working directory\n",
      "    os.chdir(os.path.expandvars(work))\n",
      "    #print \"Work/save directory: \", work\n",
      "    \n",
      "go_to('HI')\n",
      "go_to('opt')\n",
      "go_to('peris')\n",
      "go_to('rgb')\n",
      "\n",
      "#############################################################################\n",
      "\n",
      "def crop_to_field(fitsfile, ra, dec, c_r=20.):\n",
      "        '''\n",
      "        Crops the noisy outskirts\n",
      "        of the input image and returns\n",
      "        a fits file which is cropped to\n",
      "        the fds field.\n",
      "        \n",
      "        Example: (crops the 20*20 arcmin area in the center of field 11)\n",
      "        >>> crop_to_field('Sci-Coadd.fits',fdsfield_coords[10][0],fdsfield_coords[10][1],c_r=10.)\n",
      "        '''\n",
      "        hdulist2 = fits.open(fitsfile)\n",
      "        #parameters\n",
      "        amin_to_pix    = 60.*abs((1./ (3600.*hdulist2[0].header['CD1_1'])))\n",
      "        pix_to_amin    = 1./amin_to_pix\n",
      "  \n",
      "        NAXIS1 = hdulist2[0].header['NAXIS1']\n",
      "        NAXIS2 = hdulist2[0].header['NAXIS2']\n",
      "        print 'Image dimensions (x,y):',NAXIS1,NAXIS2\n",
      "\n",
      "        #BORDERS:\n",
      "\n",
      "        x_center = int(-np.cos(dec*2.*np.pi/360.)*(ra-hdulist2[0].header['CRVAL1'])*60.*amin_to_pix) + hdulist2[0].header['CRPIX1']\n",
      "        y_center = int((dec-hdulist2[0].header['CRVAL2'])*60.*amin_to_pix + hdulist2[0].header['CRPIX2'])\n",
      "        upper_border = int(y_center+c_r*amin_to_pix) \n",
      "        lower_border = int(y_center-c_r*amin_to_pix) \n",
      "        right_border = int(x_center+c_r*amin_to_pix)  # /np.cos(dec*2.*np.pi/360.)  #THIS WAS LEFT OUT TO GET SQUARES\n",
      "        left_border  = int(x_center-c_r*amin_to_pix)  # /np.cos(dec*2.*np.pi/360.)\n",
      "        matrix = hdulist2[0].data[lower_border:upper_border,left_border:right_border]\n",
      "        print 'Field center in:',x_center,y_center,'(xpix,ypix)'\n",
      "        print 'Cropped area:',left_border,right_border,'(xmin,xmax)',lower_border,upper_border,'(ymin,ymax)'\n",
      "        hdulist2[0].data = matrix\n",
      "        hdulist2[0].header['NAXIS2'] = upper_border-lower_border \n",
      "        hdulist2[0].header['NAXIS1'] = right_border-left_border\n",
      "        hdulist2[0].header['CRPIX2'] -= lower_border\n",
      "        hdulist2[0].header['CRPIX1'] -= left_border\n",
      "        hdulist2.writeto(fitsfile[:-5]+'_'+str(c_r)+'arcmin_cropped.fits', clobber=True)\n",
      "        \n",
      "#######################################\n",
      "\n",
      "def ping():\n",
      "    os.system('spd-say \"Ping\"')"
     ],
     "language": "python",
     "metadata": {},
     "outputs": [],
     "prompt_number": 4
    },
    {
     "cell_type": "code",
     "collapsed": false,
     "input": [
      "ping()"
     ],
     "language": "python",
     "metadata": {},
     "outputs": [],
     "prompt_number": 5
    },
    {
     "cell_type": "markdown",
     "metadata": {},
     "source": [
      "# VST\n",
      "##CIG11"
     ]
    },
    {
     "cell_type": "code",
     "collapsed": false,
     "input": [
      "os.chdir(\"/home/prm/Desktop/VST/cig11\")\n",
      "\n",
      "image = \"cig11_vdef.fits\"\n",
      "RA = 3.633\n",
      "DEC = -0.736\n",
      "\n",
      "crop_to_field(image, RA, DEC, c_r=2)\n",
      "crop_to_field(image, RA, DEC, c_r=3)\n",
      "#crop_to_field(image, RA, DEC, c_r=4)\n",
      "#crop_to_field(image, RA, DEC, c_r=7)\n",
      "#crop_to_field(image, RA, DEC, c_r=8)\n",
      "#crop_to_field(image, RA, DEC, c_r=10)\n",
      "#crop_to_field(image, RA, DEC, c_r=20)"
     ],
     "language": "python",
     "metadata": {},
     "outputs": [
      {
       "output_type": "stream",
       "stream": "stdout",
       "text": [
        "Image dimensions (x,y): 29224 25311\n",
        "Field center in: 16243.0 13238 (xpix,ypix)\n",
        "Cropped area: 15643 16842 (xmin,xmax) 12638 13837 (ymin,ymax)\n",
        "Image dimensions (x,y):"
       ]
      },
      {
       "output_type": "stream",
       "stream": "stdout",
       "text": [
        " 29224 25311\n",
        "Field center in: 16243.0 13238 (xpix,ypix)\n",
        "Cropped area: 15343 17142 (xmin,xmax) 12338 14137 (ymin,ymax)\n"
       ]
      }
     ],
     "prompt_number": 3
    },
    {
     "cell_type": "markdown",
     "metadata": {},
     "source": [
      "##CIG33"
     ]
    },
    {
     "cell_type": "code",
     "collapsed": false,
     "input": [
      "os.chdir(\"/home/prm/Desktop/VST/cig33\")\n",
      "\n",
      "image = \"cig33_vdef.fits\"\n",
      "RA = 10.866497\n",
      "DEC = -0.12441277\n",
      "\n",
      "crop_to_field(image, RA, DEC, c_r=2)\n",
      "crop_to_field(image, RA, DEC, c_r=3)\n",
      "#crop_to_field(image, RA, DEC, c_r=4)\n",
      "#crop_to_field(image, RA, DEC, c_r=7)\n",
      "#crop_to_field(image, RA, DEC, c_r=8)\n",
      "#crop_to_field(image, RA, DEC, c_r=10)\n",
      "#crop_to_field(image, RA, DEC, c_r=20)"
     ],
     "language": "python",
     "metadata": {},
     "outputs": [
      {
       "output_type": "stream",
       "stream": "stdout",
       "text": [
        "Image dimensions (x,y): 29254 25315\n",
        "Field center in: 16234.0 13278 (xpix,ypix)\n",
        "Cropped area: 15634 16833 (xmin,xmax) 12678 13877 (ymin,ymax)\n",
        "Image dimensions (x,y):"
       ]
      },
      {
       "output_type": "stream",
       "stream": "stdout",
       "text": [
        " 29254 25315\n",
        "Field center in: 16234.0 13278 (xpix,ypix)\n",
        "Cropped area: 15334 17133 (xmin,xmax) 12378 14177 (ymin,ymax)\n"
       ]
      }
     ],
     "prompt_number": 4
    },
    {
     "cell_type": "markdown",
     "metadata": {},
     "source": [
      "##CIG59"
     ]
    },
    {
     "cell_type": "code",
     "collapsed": false,
     "input": [
      "os.chdir(\"/home/prm/Desktop/VST/cig59\")\n",
      "\n",
      "image = \"cig59_vdef.fits\"\n",
      "RA = 24.587031\n",
      "DEC = 7.5346537\n",
      "\n",
      "crop_to_field(image, RA, DEC, c_r=2)\n",
      "crop_to_field(image, RA, DEC, c_r=3)\n",
      "#crop_to_field(image, RA, DEC, c_r=4)\n",
      "#crop_to_field(image, RA, DEC, c_r=7)\n",
      "#crop_to_field(image, RA, DEC, c_r=8)\n",
      "#crop_to_field(image, RA, DEC, c_r=10)\n",
      "#crop_to_field(image, RA, DEC, c_r=20)"
     ],
     "language": "python",
     "metadata": {},
     "outputs": [
      {
       "output_type": "stream",
       "stream": "stdout",
       "text": [
        "Image dimensions (x,y): 22024 25288\n",
        "Field center in: 11300.0 13263 (xpix,ypix)\n",
        "Cropped area: 10700 11899 (xmin,xmax) 12663 13862 (ymin,ymax)\n",
        "Image dimensions (x,y):"
       ]
      },
      {
       "output_type": "stream",
       "stream": "stdout",
       "text": [
        " 22024 25288\n",
        "Field center in: 11300.0 13263 (xpix,ypix)\n",
        "Cropped area: 10400 12199 (xmin,xmax) 12363 14162 (ymin,ymax)\n"
       ]
      }
     ],
     "prompt_number": 5
    },
    {
     "cell_type": "markdown",
     "metadata": {},
     "source": [
      "##CIG96"
     ]
    },
    {
     "cell_type": "code",
     "collapsed": false,
     "input": [
      "os.chdir(\"/home/prm/Desktop/VST/cig96\")\n",
      "image = \"cig96_VST_coadd.fits\"\n",
      "RA = 33.865231\n",
      "DEC = 6.0020581\n",
      "\n",
      "crop_to_field(image, RA, DEC, 10)\n",
      "crop_to_field(image, RA, DEC, 10)"
     ],
     "language": "python",
     "metadata": {},
     "outputs": [
      {
       "output_type": "stream",
       "stream": "stdout",
       "text": [
        "Image dimensions (x,y): 29350 25251\n",
        "Field center in: 16320.0 13226 (xpix,ypix)\n",
        "Cropped area: 13320 19319 (xmin,xmax) 10226 16225 (ymin,ymax)\n"
       ]
      }
     ],
     "prompt_number": 2
    },
    {
     "cell_type": "code",
     "collapsed": false,
     "input": [
      "os.chdir(\"/home/prm/Desktop/VST/cig96\")\n",
      "image = \"cig96_VST_coadd.fits\"\n",
      "RA = 33.865231\n",
      "DEC = 6.0020581\n",
      "\n",
      "crop_to_field(image, RA, DEC, 6)"
     ],
     "language": "python",
     "metadata": {},
     "outputs": [
      {
       "output_type": "stream",
       "stream": "stdout",
       "text": [
        "Image dimensions (x,y): 29350 25251\n",
        "Field center in: 16320.0 13226 (xpix,ypix)\n",
        "Cropped area: 14520 18119 (xmin,xmax) 11426 15025 (ymin,ymax)\n"
       ]
      }
     ],
     "prompt_number": 2
    },
    {
     "cell_type": "code",
     "collapsed": false,
     "input": [
      "os.chdir(\"/home/prm/Desktop/VST/cig96\")\n",
      "image = \"cig96_VST_coadd.fits\"\n",
      "RA = 33.865231\n",
      "DEC = 6.0020581\n",
      "\n",
      "crop_to_field(image, RA, DEC, 12.5)"
     ],
     "language": "python",
     "metadata": {},
     "outputs": [
      {
       "output_type": "stream",
       "stream": "stdout",
       "text": [
        "Image dimensions (x,y): 29350 25251\n",
        "Field center in: 16320.0 13226 (xpix,ypix)\n",
        "Cropped area: 12570 20069 (xmin,xmax) 9476 16975 (ymin,ymax)\n"
       ]
      }
     ],
     "prompt_number": 2
    },
    {
     "cell_type": "code",
     "collapsed": false,
     "input": [
      "os.chdir(\"/home/prm/Desktop/VST/cig96\")\n",
      "image = \"cig96_VST_coadd.fits\"\n",
      "RA = 33.89182\n",
      "DEC = 6.043247\n",
      "\n",
      "crop_to_field(image, RA, DEC, 2)"
     ],
     "language": "python",
     "metadata": {},
     "outputs": [
      {
       "output_type": "stream",
       "stream": "stdout",
       "text": [
        "Image dimensions (x,y): 29350 25251\n",
        "Field center in: 15844.0 13967 (xpix,ypix)\n",
        "Cropped area: 15244 16443 (xmin,xmax) 13367 14566 (ymin,ymax)\n"
       ]
      }
     ],
     "prompt_number": 2
    },
    {
     "cell_type": "markdown",
     "metadata": {},
     "source": [
      "### - CIG96 companion"
     ]
    },
    {
     "cell_type": "code",
     "collapsed": false,
     "input": [
      "os.chdir(\"/home/prm/Desktop/VST/cig96\")\n",
      "image = \"cig96_VST_coadd_20_cropped.fits\"\n",
      "RA = 33.967818\n",
      "DEC = 5.9838688\n",
      "\n",
      "crop_to_field(image, RA, DEC, 10)"
     ],
     "language": "python",
     "metadata": {},
     "outputs": [
      {
       "output_type": "stream",
       "stream": "stdout",
       "text": [
        "Image dimensions (x,y): 11999 11999\n",
        "Field center in: 4164.0 5672 (xpix,ypix)\n",
        "Cropped area: 1164 7163 (xmin,xmax) 2672 8671 (ymin,ymax)\n"
       ]
      }
     ],
     "prompt_number": 3
    },
    {
     "cell_type": "code",
     "collapsed": false,
     "input": [
      "os.chdir(\"/home/prm/Desktop/VST/cig96\")\n",
      "image = \"cig96_VST_coadd.fits\"\n",
      "RA = 33.931723\n",
      "DEC = 6.0175497\n",
      "\n",
      "crop_to_field(image, RA, DEC, 14)"
     ],
     "language": "python",
     "metadata": {},
     "outputs": [
      {
       "output_type": "stream",
       "stream": "stdout",
       "text": [
        "Image dimensions (x,y): 29350 25251\n",
        "Field center in: 15130.0 13504 (xpix,ypix)\n",
        "Cropped area: 10930 19329 (xmin,xmax) 9304 17703 (ymin,ymax)\n"
       ]
      }
     ],
     "prompt_number": 3
    },
    {
     "cell_type": "code",
     "collapsed": false,
     "input": [
      "os.chdir(\"/home/prm/Desktop/VST/cig96\")\n",
      "image = \"cig96_VST_coadd.fits\"\n",
      "RA = 33.967818\n",
      "DEC = 5.9838688\n",
      "\n",
      "crop_to_field(image, RA, DEC, 20)"
     ],
     "language": "python",
     "metadata": {},
     "outputs": []
    },
    {
     "cell_type": "markdown",
     "metadata": {},
     "source": [
      "### - CIG96 HI features"
     ]
    },
    {
     "cell_type": "code",
     "collapsed": false,
     "input": [
      "os.chdir(\"/home/prm/Desktop/VST/cig96\")\n",
      "image = \"cig96_VST_coadd_20_cropped.fits\"\n",
      "RA = 33.793461\n",
      "DEC = 6.0468212\n",
      "\n",
      "crop_to_field(image, RA, DEC, 4.5)"
     ],
     "language": "python",
     "metadata": {},
     "outputs": [
      {
       "output_type": "stream",
       "stream": "stdout",
       "text": [
        "Image dimensions (x,y): 11999 11999\n",
        "Field center in: 7284.0 6805 (xpix,ypix)\n",
        "Cropped area: 5934 8633 (xmin,xmax) 5455 8154 (ymin,ymax)\n"
       ]
      }
     ],
     "prompt_number": 4
    },
    {
     "cell_type": "markdown",
     "metadata": {},
     "source": [
      "##CIG152"
     ]
    },
    {
     "cell_type": "code",
     "collapsed": false,
     "input": [
      "os.chdir(\"/home/prm/Desktop/VST/cig152\")\n",
      "\n",
      "image = \"cig152_vdef.fits\"\n",
      "RA = 67.748514\n",
      "DEC = -2.0033558\n",
      "\n",
      "crop_to_field(image, RA, DEC, c_r=2)\n",
      "crop_to_field(image, RA, DEC, c_r=3)\n",
      "#crop_to_field(image, RA, DEC, c_r=4)\n",
      "#crop_to_field(image, RA, DEC, c_r=7)\n",
      "#crop_to_field(image, RA, DEC, c_r=8)\n",
      "#crop_to_field(image, RA, DEC, c_r=10)\n",
      "#crop_to_field(image, RA, DEC, c_r=20)"
     ],
     "language": "python",
     "metadata": {},
     "outputs": [
      {
       "output_type": "stream",
       "stream": "stdout",
       "text": [
        "Image dimensions (x,y): 22613 25228\n",
        "Field center in: 10326.0 13221 (xpix,ypix)\n",
        "Cropped area: 9726 10925 (xmin,xmax) 12621 13820 (ymin,ymax)\n",
        "Image dimensions (x,y):"
       ]
      },
      {
       "output_type": "stream",
       "stream": "stdout",
       "text": [
        " 22613 25228\n",
        "Field center in: 10326.0 13221 (xpix,ypix)\n",
        "Cropped area: 9426 11225 (xmin,xmax) 12321 14120 (ymin,ymax)\n"
       ]
      }
     ],
     "prompt_number": 6
    },
    {
     "cell_type": "markdown",
     "metadata": {},
     "source": [
      "##CIG154"
     ]
    },
    {
     "cell_type": "code",
     "collapsed": false,
     "input": [
      "os.chdir(\"/home/prm/Desktop/VST/cig154\")\n",
      "\n",
      "image = \"cig154_vdef.fits\"\n",
      "RA = 71.9385\n",
      "DEC = 1.8191\n",
      "\n",
      "crop_to_field(image, RA, DEC, c_r=2)\n",
      "crop_to_field(image, RA, DEC, c_r=3)\n",
      "#crop_to_field(image, RA, DEC, c_r=4)\n",
      "#crop_to_field(image, RA, DEC, c_r=7)\n",
      "#crop_to_field(image, RA, DEC, c_r=8)\n",
      "#crop_to_field(image, RA, DEC, c_r=10)\n",
      "#crop_to_field(image, RA, DEC, c_r=20)"
     ],
     "language": "python",
     "metadata": {},
     "outputs": [
      {
       "output_type": "stream",
       "stream": "stdout",
       "text": [
        "Image dimensions (x,y): 28888 25255\n",
        "Field center in: 15873.0 13252 (xpix,ypix)\n",
        "Cropped area: 15273 16472 (xmin,xmax) 12652 13851 (ymin,ymax)\n",
        "Image dimensions (x,y):"
       ]
      },
      {
       "output_type": "stream",
       "stream": "stdout",
       "text": [
        " 28888 25255\n",
        "Field center in: 15873.0 13252 (xpix,ypix)\n",
        "Cropped area: 14973 16772 (xmin,xmax) 12352 14151 (ymin,ymax)\n"
       ]
      }
     ],
     "prompt_number": 7
    },
    {
     "cell_type": "markdown",
     "metadata": {},
     "source": [
      "##CIG279"
     ]
    },
    {
     "cell_type": "code",
     "collapsed": false,
     "input": [
      "os.chdir(\"/home/prm/Desktop/VST/cig279\")\n",
      "\n",
      "image = \"cig279_vdef.fits\"\n",
      "RA = 130.38419\n",
      "DEC = 4.981089\n",
      "\n",
      "crop_to_field(image, RA, DEC, c_r=2)\n",
      "crop_to_field(image, RA, DEC, c_r=3)\n",
      "#crop_to_field(image, RA, DEC, c_r=4)\n",
      "#crop_to_field(image, RA, DEC, c_r=7)\n",
      "#crop_to_field(image, RA, DEC, c_r=8)\n",
      "#crop_to_field(image, RA, DEC, c_r=10)\n",
      "#crop_to_field(image, RA, DEC, c_r=20)"
     ],
     "language": "python",
     "metadata": {},
     "outputs": [
      {
       "output_type": "stream",
       "stream": "stdout",
       "text": [
        "Image dimensions (x,y): 29264 25367\n",
        "Field center in: 16241.0 13312 (xpix,ypix)\n",
        "Cropped area: 15641 16840 (xmin,xmax) 12712 13911 (ymin,ymax)\n",
        "Image dimensions (x,y):"
       ]
      },
      {
       "output_type": "stream",
       "stream": "stdout",
       "text": [
        " 29264 25367\n",
        "Field center in: 16241.0 13312 (xpix,ypix)\n",
        "Cropped area: 15341 17140 (xmin,xmax) 12412 14211 (ymin,ymax)\n"
       ]
      }
     ],
     "prompt_number": 8
    },
    {
     "cell_type": "code",
     "collapsed": false,
     "input": [
      "os.chdir(\"/home/prm/Desktop/VST/cig279\")\n",
      "\n",
      "image = \"cig279_vdef.fits\"\n",
      "RA  = 130.42283\n",
      "DEC = 4.9569477\n",
      "\n",
      "crop_to_field(image, RA, DEC, c_r=4.5)"
     ],
     "language": "python",
     "metadata": {},
     "outputs": [
      {
       "output_type": "stream",
       "stream": "stdout",
       "text": [
        "Image dimensions (x,y): 29264 25367\n",
        "Field center in: 15549.0 12878 (xpix,ypix)\n",
        "Cropped area: 14199 16898 (xmin,xmax) 11528 14227 (ymin,ymax)\n"
       ]
      }
     ],
     "prompt_number": 7
    },
    {
     "cell_type": "markdown",
     "metadata": {},
     "source": [
      "##CIG568"
     ]
    },
    {
     "cell_type": "code",
     "collapsed": false,
     "input": [
      "os.chdir(\"/home/prm/Desktop/VST/cig568\")\n",
      "\n",
      "image = \"cig568_vdef.fits\"\n",
      "RA = 196.06271\n",
      "DEC = 9.223596\n",
      "\n",
      "crop_to_field(image, RA, DEC, c_r=2)\n",
      "crop_to_field(image, RA, DEC, c_r=3)\n",
      "#crop_to_field(image, RA, DEC, c_r=4)\n",
      "#crop_to_field(image, RA, DEC, c_r=7)\n",
      "#crop_to_field(image, RA, DEC, c_r=8)\n",
      "#crop_to_field(image, RA, DEC, c_r=10)\n",
      "#crop_to_field(image, RA, DEC, c_r=20)"
     ],
     "language": "python",
     "metadata": {},
     "outputs": [
      {
       "output_type": "stream",
       "stream": "stdout",
       "text": [
        "Image dimensions (x,y): 28922 25085\n",
        "Field center in: 10263.0 10255 (xpix,ypix)\n",
        "Cropped area: 9663 10862 (xmin,xmax) 9655 10854 (ymin,ymax)\n",
        "Image dimensions (x,y):"
       ]
      },
      {
       "output_type": "stream",
       "stream": "stdout",
       "text": [
        " 28922 25085\n",
        "Field center in: 10263.0 10255 (xpix,ypix)\n",
        "Cropped area: 9363 11162 (xmin,xmax) 9355 11154 (ymin,ymax)\n"
       ]
      }
     ],
     "prompt_number": 9
    },
    {
     "cell_type": "code",
     "collapsed": false,
     "input": [
      "os.chdir(\"/home/prm/Desktop/VST/cig568\")\n",
      "\n",
      "image = \"cig568_vdef.fits\"\n",
      "RA = 196.06411\n",
      "DEC = 9.2320021\n",
      "\n",
      "crop_to_field(image, RA, DEC, c_r=3)"
     ],
     "language": "python",
     "metadata": {},
     "outputs": [
      {
       "output_type": "stream",
       "stream": "stdout",
       "text": [
        "Image dimensions (x,y): 28922 25085\n",
        "Field center in: 10238.0 10407 (xpix,ypix)\n",
        "Cropped area: 9338 11137 (xmin,xmax) 9507 11306 (ymin,ymax)\n"
       ]
      },
      {
       "output_type": "stream",
       "stream": "stderr",
       "text": [
        "/usr/local/lib/python2.7/dist-packages/pyfits/file.py:372: UserWarning: Overwriting existing file 'cig568_vdef_3arcmin_cropped.fits'.\n",
        "  warnings.warn(\"Overwriting existing file %r.\" % self.name)\n"
       ]
      }
     ],
     "prompt_number": 8
    },
    {
     "cell_type": "markdown",
     "metadata": {},
     "source": [
      "##CIG 1002"
     ]
    },
    {
     "cell_type": "code",
     "collapsed": false,
     "input": [
      "os.chdir(\"/home/prm/Desktop/VST/cig1002\")\n",
      "\n",
      "image = \"cig1002_vdef.fits\"\n",
      "RA = 345.17068\n",
      "DEC = 8.4676962\n",
      "\n",
      "crop_to_field(image, RA, DEC, c_r=2)\n",
      "crop_to_field(image, RA, DEC, c_r=3)\n",
      "#crop_to_field(image, RA, DEC, c_r=4)\n",
      "#crop_to_field(image, RA, DEC, c_r=7)\n",
      "#crop_to_field(image, RA, DEC, c_r=8)\n",
      "#crop_to_field(image, RA, DEC, c_r=10)\n",
      "#crop_to_field(image, RA, DEC, c_r=20)"
     ],
     "language": "python",
     "metadata": {},
     "outputs": [
      {
       "output_type": "stream",
       "stream": "stdout",
       "text": [
        "Image dimensions (x,y): 31288 26793\n",
        "Field center in: 15932.0 13879 (xpix,ypix)\n",
        "Cropped area: 15332 16531 (xmin,xmax) 13279 14478 (ymin,ymax)\n",
        "Image dimensions (x,y):"
       ]
      },
      {
       "output_type": "stream",
       "stream": "stdout",
       "text": [
        " 31288 26793\n",
        "Field center in: 15932.0 13879 (xpix,ypix)\n",
        "Cropped area: 15032 16831 (xmin,xmax) 12979 14778 (ymin,ymax)\n"
       ]
      }
     ],
     "prompt_number": 10
    },
    {
     "cell_type": "markdown",
     "metadata": {},
     "source": [
      "##CIG 1027"
     ]
    },
    {
     "cell_type": "code",
     "collapsed": false,
     "input": [
      "os.chdir(\"/home/prm/Desktop/VST/cig1027\")\n",
      "\n",
      "image = \"cig1027_vdef.fits\"\n",
      "RA = 353.859\n",
      "DEC = 7.322\n",
      "\n",
      "crop_to_field(image, RA, DEC, c_r=2)\n",
      "crop_to_field(image, RA, DEC, c_r=3)\n",
      "#crop_to_field(image, RA, DEC, c_r=4)\n",
      "#crop_to_field(image, RA, DEC, c_r=7)\n",
      "#crop_to_field(image, RA, DEC, c_r=8)\n",
      "#crop_to_field(image, RA, DEC, c_r=10)\n",
      "#crop_to_field(image, RA, DEC, c_r=20)"
     ],
     "language": "python",
     "metadata": {},
     "outputs": [
      {
       "output_type": "stream",
       "stream": "stdout",
       "text": [
        "Image dimensions (x,y): 31464 27018\n",
        "Field center in: 14576.0 13961 (xpix,ypix)\n",
        "Cropped area: 13976 15175 (xmin,xmax) 13361 14560 (ymin,ymax)\n",
        "Image dimensions (x,y):"
       ]
      },
      {
       "output_type": "stream",
       "stream": "stdout",
       "text": [
        " 31464 27018\n",
        "Field center in: 14576.0 13961 (xpix,ypix)\n",
        "Cropped area: 13676 15475 (xmin,xmax) 13061 14860 (ymin,ymax)\n"
       ]
      }
     ],
     "prompt_number": 11
    },
    {
     "cell_type": "markdown",
     "metadata": {},
     "source": [
      "##CIG 1047"
     ]
    },
    {
     "cell_type": "code",
     "collapsed": false,
     "input": [
      "os.chdir(\"/home/prm/Desktop/VST/cig1047\")\n",
      "\n",
      "image = \"cig1047_vdef.fits\"\n",
      "RA = 359.198\n",
      "DEC = 1.3550 \n",
      "\n",
      "crop_to_field(image, RA, DEC, c_r=2)\n",
      "crop_to_field(image, RA, DEC, c_r=3)\n",
      "#crop_to_field(image, RA, DEC, c_r=4)\n",
      "#crop_to_field(image, RA, DEC, c_r=7)\n",
      "#crop_to_field(image, RA, DEC, c_r=8)\n",
      "#crop_to_field(image, RA, DEC, c_r=10)\n",
      "#crop_to_field(image, RA, DEC, c_r=20)"
     ],
     "language": "python",
     "metadata": {},
     "outputs": [
      {
       "output_type": "stream",
       "stream": "stdout",
       "text": [
        "Image dimensions (x,y): 31486 26989\n",
        "Field center in: 15181.0 15415 (xpix,ypix)\n",
        "Cropped area: 14581 15780 (xmin,xmax) 14815 16014 (ymin,ymax)\n",
        "Image dimensions (x,y):"
       ]
      },
      {
       "output_type": "stream",
       "stream": "stdout",
       "text": [
        " 31486 26989\n",
        "Field center in: 15181.0 15415 (xpix,ypix)\n",
        "Cropped area: 14281 16080 (xmin,xmax) 14515 16314 (ymin,ymax)\n"
       ]
      }
     ],
     "prompt_number": 12
    },
    {
     "cell_type": "code",
     "collapsed": false,
     "input": [],
     "language": "python",
     "metadata": {},
     "outputs": []
    }
   ],
   "metadata": {}
  }
 ]
}